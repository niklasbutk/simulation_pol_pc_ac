{
 "cells": [
  {
   "cell_type": "markdown",
   "metadata": {},
   "source": [
    "This Python-code runs the Python program 'run_polymer_simulation_once.ipynb' many times to obtain better statistics. Results-files are saved for each simulation and finally used to create an average of the quantities."
   ]
  },
  {
   "cell_type": "markdown",
   "metadata": {},
   "source": [
    "# Import of libraries "
   ]
  },
  {
   "cell_type": "code",
   "execution_count": 1,
   "metadata": {},
   "outputs": [],
   "source": [
    "import math\n",
    "import numpy as np\n",
    "import os"
   ]
  },
  {
   "cell_type": "markdown",
   "metadata": {},
   "source": [
    "# Initialization and calculation of basic parameters"
   ]
  },
  {
   "cell_type": "markdown",
   "metadata": {},
   "source": [
    "Initial parameters (fixed values for all simulation) are defined in the Initialization. Then, they are written to another python-file, 'init_parameters.ipynb'. The program 'run_polymer_simulation_once.ipynb' load this initial parameters from the file 'init_parameters.py' every time it is called. Attention: This extra file 'init_parameters.ipynb' is needed because a python program cannot load variables from this file ('main_code.ipynb') while it is run."
   ]
  },
  {
   "cell_type": "code",
   "execution_count": 2,
   "metadata": {},
   "outputs": [],
   "source": [
    "#define number of polymers segments (monomers)\n",
    "Monomers = 10\n",
    "\n",
    "#define number of bonds between segments\n",
    "Bonds = Monomers - 1\n",
    "\n",
    "#set simulation box length\n",
    "simulation_box_length = 10\n",
    "\n",
    "#set box factor (factor to multiply each box side with)\n",
    "box_factor = 1\n",
    "\n",
    "#define spring constant (Rouse model) for bonds between segments in units energy/distance^2\n",
    "k = 1\n",
    "\n",
    "#define rest bond length (same as LJ-sigma_AA)\n",
    "r0 = 1\n",
    "\n",
    "#define temperature in units of kT\n",
    "kT = 1\n",
    "\n",
    "#define drag-coefficient constant gamma for all particles\n",
    "gamma = 1\n",
    "\n",
    "#define translational diffusion constant\n",
    "D_t = kT/gamma\n",
    "\n",
    "#######################################################################\n",
    "\n",
    "#set radius of passive particles (should be halb sigma for LJ-potential)\n",
    "R_passive_partilce = 0.5\n",
    "\n",
    "#calculate volume of passive particles\n",
    "volume_passive_particle = 4/3*np.pi*(R_passive_partilce)**3\n",
    "\n",
    "#set density of passive particles\n",
    "density_passive_particles = 0.1\n",
    "\n",
    "#calculate number of passive particles\n",
    "n_passive_particles = int( (box_factor*simulation_box_length)**3 *\n",
    "                          density_passive_particles / volume_passive_particle )\n",
    "\n",
    "#######################################################################\n",
    "\n",
    "#set radius of active particles (should be halb sigma for LJ-potential)\n",
    "R_active_partilce = 0.5\n",
    "\n",
    "#calculate volume of active particles\n",
    "volume_active_particle = 4/3*np.pi*(R_active_partilce)**3\n",
    "\n",
    "#set density of active particles\n",
    "density_active_particles = 0.1\n",
    "\n",
    "#calculate number of active particles\n",
    "n_active_particles = int( (box_factor*simulation_box_length)**3 *\n",
    "                         density_active_particles / volume_active_particle )\n",
    "\n",
    "#set active force vector for active particles\n",
    "force_vec_active_particle = (10, 0, 0)\n",
    "\n",
    "#define velocity of active particles\n",
    "v_ac = np.sqrt((force_vec_active_particle[0]**2+\n",
    "                force_vec_active_particle[1]**2+\n",
    "                force_vec_active_particle[2]**2)) #formula checked!\n",
    "\n",
    "#set rotational diffusion constant D_r for active particles\n",
    "D_r_active_particle = 0.01\n",
    "\n",
    "#define tau_r (persistence time) for active particles\n",
    "tau_r_active_particle = 1/D_r_active_particle\n",
    "\n",
    "#######################################################################\n",
    "\n",
    "#set epsilon and sigma for LJ-potential between all particles\n",
    "#A=Monomers, B=passive crowders, C=active crowders\n",
    "lj_epsilon_AA = 1\n",
    "lj_sigma_AA   = r0\n",
    "\n",
    "lj_epsilon_AB = 1\n",
    "lj_sigma_AB   = 1\n",
    "\n",
    "lj_epsilon_AC = 1\n",
    "lj_sigma_AC   = 1\n",
    "\n",
    "lj_epsilon_BB = 1\n",
    "lj_sigma_BB   = 1\n",
    "\n",
    "lj_epsilon_BC = 1\n",
    "lj_sigma_BC   = 1\n",
    "\n",
    "lj_epsilon_CC = 1\n",
    "lj_sigma_CC   = 1\n",
    "\n",
    "#define r_cut from which LJ-potential is 0 (same for all particles)\n",
    "r_cut = 2**(1/6)*lj_sigma_AA\n",
    "#######################################################################\n",
    "\n",
    "#define integration step time\n",
    "dt = 10**(-4)\n",
    "\n",
    "#define number of integration steps: two magnitudes more than rotational diff. constant\n",
    "integration_steps = 1/dt*tau_r_active_particle*10\n",
    "\n",
    "#define number of points for representation\n",
    "number_of_points = 10000\n",
    "\n",
    "#calculate return period to log data to file\n",
    "return_period = integration_steps/number_of_points"
   ]
  },
  {
   "cell_type": "markdown",
   "metadata": {},
   "source": [
    "Create file 'initial_values.py' and write the set parameters into it; this file is called every time when the simulation 'run_polymer_simulation_once.py' starts."
   ]
  },
  {
   "cell_type": "code",
   "execution_count": 3,
   "metadata": {},
   "outputs": [],
   "source": [
    "#safe initial parameters\n",
    "init_parameters = (\n",
    "\n",
    "    \"Monomers = \"                  +str(Monomers)+\"\\n\"                   +\n",
    "    \"Bonds = \"                     +str(Bonds)+\"\\n\"                      +\n",
    "    \"simulation_box_length =\"      +str(simulation_box_length)+\"\\n\"      +\n",
    "    \"box_factor = \"                +str(box_factor)+\"\\n\"                 +\n",
    "    \"k = \"                         +str(k)+\"\\n\"                          +\n",
    "    \"r0 = \"                        +str(r0)+\"\\n\"                         +\n",
    "    \"kT = \"                        +str(kT)+\"\\n\"                         +\n",
    "    \"gamma = \"                     +str(gamma)+\"\\n\"                      +\n",
    "    \"D_t = \"                       +str(D_t)+\"\\n\\n\"                      +\n",
    "    \n",
    "    \"R_passive_partilce = \"        +str(R_passive_partilce)+\"\\n\"         +\n",
    "    \"volume_passive_particle = \"   +str(volume_passive_particle)+\"\\n\"    +\n",
    "    \"density_passive_particles = \" +str(density_passive_particles)+\"\\n\"  +\n",
    "    \"n_passive_particles = \"       +str(n_passive_particles)+\"\\n\\n\"      +\n",
    "    \n",
    "    \"R_active_partilce = \"         +str(R_active_partilce)+\"\\n\"          +\n",
    "    \"volume_active_particle = \"    +str(volume_active_particle)+\"\\n\"     +\n",
    "    \"density_active_particles = \"  +str(density_active_particles)+\"\\n\"   +\n",
    "    \"n_active_particles = \"        +str(n_active_particles)+\"\\n\"         +\n",
    "    \"force_vec_active_particle = \" +str(force_vec_active_particle)+\"\\n\"  +\n",
    "    \"v_ac = \"                      +str(v_ac)+\"\\n\"                       +\n",
    "    \"D_r_active_particle = \"       +str(D_r_active_particle)+\"\\n\"        +\n",
    "    \"tau_r_active_particle = \"     +str(tau_r_active_particle)+\"\\n\\n\"    +\n",
    "  \n",
    "    \"lj_epsilon_AA = \"             +str(lj_epsilon_AA)+\"\\n\"              +\n",
    "    \"lj_sigma_AA = \"               +str(lj_sigma_AA)+\"\\n\"                +\n",
    "    \"lj_epsilon_AB = \"             +str(lj_epsilon_AB)+\"\\n\"              +\n",
    "    \"lj_sigma_AB = \"               +str(lj_sigma_AB)+\"\\n\"                +\n",
    "    \"lj_epsilon_AC = \"             +str(lj_epsilon_AC)+\"\\n\"              +\n",
    "    \"lj_sigma_AC = \"               +str(lj_sigma_AC)+\"\\n\"                +\n",
    "    \"lj_epsilon_BB = \"             +str(lj_epsilon_BB)+\"\\n\"              +\n",
    "    \"lj_sigma_BB = \"               +str(lj_sigma_BB)+\"\\n\"                +\n",
    "    \"lj_epsilon_BC = \"             +str(lj_epsilon_BC)+\"\\n\"              +\n",
    "    \"lj_sigma_BC = \"               +str(lj_sigma_BC)+\"\\n\"                +\n",
    "    \"lj_epsilon_CC = \"             +str(lj_epsilon_CC)+\"\\n\"              +\n",
    "    \"lj_sigma_CC = \"               +str(lj_sigma_CC)+\"\\n\"                +\n",
    "    \"r_cut = \"                     +str(r_cut)+\"\\n\\n\"                    +\n",
    "    \n",
    "    \"dt = \"                        +str(dt)+\"\\n\"                         +\n",
    "    \"integration_steps = \"         +str(integration_steps)+\"\\n\"          +\n",
    "    \"number_of_points = \"          +str(number_of_points)+\"\\n\"           +\n",
    "    \"return_period = \"             +str(return_period)  )\n",
    "\n",
    "#make py-file (same for all simulations with same parameters) if not already exists\n",
    "file_init_parameters = open('initial_parameters'+\n",
    "                            '.py', 'w')\n",
    "\n",
    "file_init_parameters.write(init_parameters)\n",
    "\n",
    "file_init_parameters.close()"
   ]
  },
  {
   "cell_type": "markdown",
   "metadata": {},
   "source": [
    "# Run the entire simulation once"
   ]
  },
  {
   "cell_type": "code",
   "execution_count": 4,
   "metadata": {
    "scrolled": true
   },
   "outputs": [],
   "source": [
    "#%run run_polymer_simulation_once.ipynb"
   ]
  },
  {
   "cell_type": "code",
   "execution_count": null,
   "metadata": {},
   "outputs": [],
   "source": []
  },
  {
   "cell_type": "code",
   "execution_count": null,
   "metadata": {},
   "outputs": [],
   "source": []
  },
  {
   "cell_type": "code",
   "execution_count": null,
   "metadata": {},
   "outputs": [],
   "source": []
  }
 ],
 "metadata": {
  "kernelspec": {
   "display_name": "Python 3",
   "language": "python",
   "name": "python3"
  },
  "language_info": {
   "codemirror_mode": {
    "name": "ipython",
    "version": 3
   },
   "file_extension": ".py",
   "mimetype": "text/x-python",
   "name": "python",
   "nbconvert_exporter": "python",
   "pygments_lexer": "ipython3",
   "version": "3.7.6"
  }
 },
 "nbformat": 4,
 "nbformat_minor": 2
}
